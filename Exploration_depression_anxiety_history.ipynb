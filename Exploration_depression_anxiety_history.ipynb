{
 "cells": [
  {
   "cell_type": "code",
   "execution_count": 1,
   "metadata": {},
   "outputs": [],
   "source": [
    "import pprint as pp\n",
    "import requests \n",
    "import json\n",
    "from datetime import date\n",
    "import csv\n",
    "import datetime\n",
    "import pandas as pd\n",
    "import time\n",
    "from time import mktime\n",
    "from datetime import datetime, timedelta\n",
    "import numpy as np\n",
    "import re "
   ]
  },
  {
   "cell_type": "code",
   "execution_count": 2,
   "metadata": {},
   "outputs": [],
   "source": [
    "#def getPushshiftData(query, after, before, sub):\n",
    "def getPushshiftData(after, before, sub):\n",
    "    #url = 'https://api.pushshift.io/reddit/search/submission/?title='+str(query)+'&size=1000&after='+str(after)+'&before='+str(before)+'&subreddit='+str(sub)\n",
    "    url = 'https://api.pushshift.io/reddit/search/submission/?size=1000&after='+str(after)+'&before='+str(before)+'&subreddit='+str(sub)\n",
    "    #url = 'https://api.pushshift.io/reddit/search/submission/?link_flair_text=Resources&size=1000&after='+str(after)+'&before='+str(before)+'&subreddit='+str(sub)\n",
    "    #SEE ABOUT SOME OTHER THING FOR FLAIR doesn't seem to be working\n",
    "    print(url)\n",
    "    r = requests.get(url)\n",
    "    data = json.loads(r.text)\n",
    "    return data['data']"
   ]
  },
  {
   "cell_type": "code",
   "execution_count": 13,
   "metadata": {},
   "outputs": [
    {
     "name": "stdout",
     "output_type": "stream",
     "text": [
      "https://api.pushshift.io/reddit/search/submission/?size=1000&after=2017-05-06&before=2017-05-08&subreddit=Depression\n"
     ]
    }
   ],
   "source": [
    "sub='Depression'\n",
    "before = '2017-05-08'\n",
    "\n",
    "after = '2017-05-06'\n",
    "data = getPushshiftData(after, before, sub)"
   ]
  },
  {
   "cell_type": "code",
   "execution_count": 63,
   "metadata": {},
   "outputs": [
    {
     "data": {
      "text/plain": [
       "'2017-03-02'"
      ]
     },
     "execution_count": 63,
     "metadata": {},
     "output_type": "execute_result"
    }
   ],
   "source": [
    "start = date(2017,3,1)\n",
    "delta = timedelta(days=1)\n",
    "str(start+delta)"
   ]
  },
  {
   "cell_type": "code",
   "execution_count": 75,
   "metadata": {},
   "outputs": [
    {
     "name": "stdout",
     "output_type": "stream",
     "text": [
      "https://api.pushshift.io/reddit/search/submission/?size=1000&after=2020-03-01&before=2020-03-02&subreddit=Depression\n",
      "https://api.pushshift.io/reddit/search/submission/?size=1000&after=2020-03-02&before=2020-03-03&subreddit=Depression\n",
      "https://api.pushshift.io/reddit/search/submission/?size=1000&after=2020-03-03&before=2020-03-04&subreddit=Depression\n",
      "https://api.pushshift.io/reddit/search/submission/?size=1000&after=2020-03-04&before=2020-03-05&subreddit=Depression\n",
      "https://api.pushshift.io/reddit/search/submission/?size=1000&after=2020-03-05&before=2020-03-06&subreddit=Depression\n",
      "https://api.pushshift.io/reddit/search/submission/?size=1000&after=2020-03-06&before=2020-03-07&subreddit=Depression\n",
      "https://api.pushshift.io/reddit/search/submission/?size=1000&after=2020-03-07&before=2020-03-08&subreddit=Depression\n",
      "https://api.pushshift.io/reddit/search/submission/?size=1000&after=2020-03-08&before=2020-03-09&subreddit=Depression\n",
      "https://api.pushshift.io/reddit/search/submission/?size=1000&after=2020-03-09&before=2020-03-10&subreddit=Depression\n",
      "https://api.pushshift.io/reddit/search/submission/?size=1000&after=2020-03-10&before=2020-03-11&subreddit=Depression\n",
      "https://api.pushshift.io/reddit/search/submission/?size=1000&after=2020-03-11&before=2020-03-12&subreddit=Depression\n",
      "https://api.pushshift.io/reddit/search/submission/?size=1000&after=2020-03-12&before=2020-03-13&subreddit=Depression\n",
      "https://api.pushshift.io/reddit/search/submission/?size=1000&after=2020-03-13&before=2020-03-14&subreddit=Depression\n",
      "https://api.pushshift.io/reddit/search/submission/?size=1000&after=2020-03-14&before=2020-03-15&subreddit=Depression\n",
      "https://api.pushshift.io/reddit/search/submission/?size=1000&after=2020-03-15&before=2020-03-16&subreddit=Depression\n",
      "https://api.pushshift.io/reddit/search/submission/?size=1000&after=2020-03-16&before=2020-03-17&subreddit=Depression\n",
      "https://api.pushshift.io/reddit/search/submission/?size=1000&after=2020-03-17&before=2020-03-18&subreddit=Depression\n",
      "https://api.pushshift.io/reddit/search/submission/?size=1000&after=2020-03-18&before=2020-03-19&subreddit=Depression\n",
      "https://api.pushshift.io/reddit/search/submission/?size=1000&after=2020-03-19&before=2020-03-20&subreddit=Depression\n",
      "https://api.pushshift.io/reddit/search/submission/?size=1000&after=2020-03-20&before=2020-03-21&subreddit=Depression\n",
      "https://api.pushshift.io/reddit/search/submission/?size=1000&after=2020-03-21&before=2020-03-22&subreddit=Depression\n",
      "https://api.pushshift.io/reddit/search/submission/?size=1000&after=2020-03-22&before=2020-03-23&subreddit=Depression\n",
      "https://api.pushshift.io/reddit/search/submission/?size=1000&after=2020-03-23&before=2020-03-24&subreddit=Depression\n",
      "https://api.pushshift.io/reddit/search/submission/?size=1000&after=2020-03-24&before=2020-03-25&subreddit=Depression\n",
      "https://api.pushshift.io/reddit/search/submission/?size=1000&after=2020-03-25&before=2020-03-26&subreddit=Depression\n",
      "https://api.pushshift.io/reddit/search/submission/?size=1000&after=2020-03-26&before=2020-03-27&subreddit=Depression\n",
      "https://api.pushshift.io/reddit/search/submission/?size=1000&after=2020-03-27&before=2020-03-28&subreddit=Depression\n",
      "https://api.pushshift.io/reddit/search/submission/?size=1000&after=2020-03-28&before=2020-03-29&subreddit=Depression\n",
      "https://api.pushshift.io/reddit/search/submission/?size=1000&after=2020-03-29&before=2020-03-30&subreddit=Depression\n",
      "https://api.pushshift.io/reddit/search/submission/?size=1000&after=2020-03-30&before=2020-03-31&subreddit=Depression\n"
     ]
    }
   ],
   "source": [
    "start = date(2020,3,1)\n",
    "after = start\n",
    "appended_data = pd.DataFrame(columns =['Date','Author','Title','Body','URL'])\n",
    "for i in range(30):\n",
    "    after = str(start+delta*i)\n",
    "    before = str(start+delta*(i+1))\n",
    "    sub = 'Depression'\n",
    "    data = getPushshiftData(after, before, sub)\n",
    "    dep_data = [];\n",
    "    for i in range (len(data)):\n",
    "        try:\n",
    "            dep_data.append(\n",
    "            [data[i]['created_utc'],data[i]['author'],data[i]['title'],data[i]['selftext'],\n",
    "             data[i]['permalink']\n",
    "            ])\n",
    "        except: \n",
    "            continue\n",
    "    df = pd.DataFrame(dep_data, columns =['Date','Author','Title','Body','URL'])\n",
    "    df = df[df['Author']!= '[deleted]'];\n",
    "    appended_data = appended_data.append(df)\n",
    "    "
   ]
  },
  {
   "cell_type": "code",
   "execution_count": 77,
   "metadata": {},
   "outputs": [],
   "source": [
    "appended_data.to_csv(r'2020_March_r_Depression.csv')"
   ]
  },
  {
   "cell_type": "code",
   "execution_count": 76,
   "metadata": {},
   "outputs": [
    {
     "data": {
      "text/plain": [
       "19480"
      ]
     },
     "execution_count": 76,
     "metadata": {},
     "output_type": "execute_result"
    }
   ],
   "source": [
    "len(list(appended_data.Date))"
   ]
  },
  {
   "cell_type": "code",
   "execution_count": 15,
   "metadata": {},
   "outputs": [],
   "source": [
    "dep_data = [];\n",
    "for i in range (len(data)):\n",
    "    dep_data.append(\n",
    "        [data[i]['created_utc'],data[i]['author'],data[i]['title'],data[i]['selftext'],\n",
    "         data[i]['permalink']\n",
    "        ])\n",
    "    "
   ]
  },
  {
   "cell_type": "code",
   "execution_count": 78,
   "metadata": {},
   "outputs": [
    {
     "name": "stdout",
     "output_type": "stream",
     "text": [
      "   Unnamed: 0        Date          Author  \\\n",
      "0           0  1488326568  advent_child88   \n",
      "1           1  1488326720        LadyYogi   \n",
      "2           2  1488326905      Mitchfever   \n",
      "3           3  1488327112     SoulOfTeemo   \n",
      "4           5  1488327487        ruckyeah   \n",
      "\n",
      "                                               Title  \\\n",
      "0                        Back seat in your own life?   \n",
      "1                      It's been a rough few months.   \n",
      "2  I'm not looking forward to my birthday this ye...   \n",
      "3                        I took my first pills today   \n",
      "4  What do you guys do when your methods aren't w...   \n",
      "\n",
      "                                                Body  \\\n",
      "0  Does anyone ever feel like they are sitting in...   \n",
      "1  I guess I just need to get it out there. My Gr...   \n",
      "2  In fact I want it to be over as fast as possib...   \n",
      "3  Hey im 16 and got prescribed something like sy...   \n",
      "4  I've been on the same birth control for a whil...   \n",
      "\n",
      "                                                 URL  \n",
      "0  /r/depression/comments/5wrkve/back_seat_in_you...  \n",
      "1  /r/depression/comments/5wrlho/its_been_a_rough...  \n",
      "2  /r/depression/comments/5wrm93/im_not_looking_f...  \n",
      "3  /r/depression/comments/5wrn8i/i_took_my_first_...  \n",
      "4  /r/depression/comments/5wroxt/what_do_you_guys...  \n",
      "   Unnamed: 0        Date             Author  \\\n",
      "0           0  1519862725  Justathrowaway912   \n",
      "1           1  1519862926     Knighthawk1114   \n",
      "2           2  1519862960    RuminatingRaven   \n",
      "3           3  1519863008    jogandoforafora   \n",
      "4           4  1519863080  Sweatyelephant880   \n",
      "\n",
      "                                               Title  \\\n",
      "0  Got friend dumped years ago and still affected...   \n",
      "1  I think about suicide everyday but for really ...   \n",
      "2                  Coming to terms with needing help   \n",
      "3  For those with depression for years that were ...   \n",
      "4       Im a complete mess and don't know what to do   \n",
      "\n",
      "                                                Body  \\\n",
      "0  I honestly wonder if I need counseling. It’s b...   \n",
      "1  Like a girl not liking me, I feel like I’m jus...   \n",
      "2  I have had major depressive disorder for over ...   \n",
      "3                                          [removed]   \n",
      "4  I need help i can't do this anymore i stopped ...   \n",
      "\n",
      "                                                 URL  \n",
      "0  /r/depression/comments/810y6c/got_friend_dumpe...  \n",
      "1  /r/depression/comments/810z0b/i_think_about_su...  \n",
      "2  /r/depression/comments/810z5b/coming_to_terms_...  \n",
      "3  /r/depression/comments/810zc5/for_those_with_d...  \n",
      "4  /r/depression/comments/810zo5/im_a_complete_me...  \n",
      "   Unnamed: 0        Date           Author  \\\n",
      "0           0  1551398435    anastasia9876   \n",
      "1           1  1551398450  Decayedparadigm   \n",
      "2           2  1551398566         Ravenepl   \n",
      "3           3  1551398758        lover1849   \n",
      "4           4  1551398791         Random3x   \n",
      "\n",
      "                                               Title  \\\n",
      "0                  Ritalin and alcohol keep me alive   \n",
      "1                                  Complete disarray   \n",
      "2  I slept for 12 hours instead of going to class...   \n",
      "3                 Currently having one of those days   \n",
      "4  For those that want to talk but don’t want to ...   \n",
      "\n",
      "                                                Body  \\\n",
      "0  Will this torment ever end? Everyday I can’t b...   \n",
      "1  I am at a total loss right now. I'm 29 years o...   \n",
      "2                       So that’s I’ve been doing :/   \n",
      "3  Yup, things are hitting hard right now. Always...   \n",
      "4  I came across a post a while back and thought ...   \n",
      "\n",
      "                                                 URL  \n",
      "0  /r/depression/comments/avxycp/ritalin_and_alco...  \n",
      "1   /r/depression/comments/avxyfu/complete_disarray/  \n",
      "2  /r/depression/comments/avxz3q/i_slept_for_12_h...  \n",
      "3  /r/depression/comments/avy05a/currently_having...  \n",
      "4  /r/depression/comments/avy0c0/for_those_that_w...  \n",
      "   Unnamed: 0        Date            Author  \\\n",
      "0           0  1583020847          jamie11w   \n",
      "1           1  1583020904  NoDeedUnpunished   \n",
      "2           2  1583021169        Fancy_Pens   \n",
      "3           3  1583021314         creeklisa   \n",
      "4           4  1583021438     JudasofBelial   \n",
      "\n",
      "                                        Title  \\\n",
      "0                  Got referred to volunteers   \n",
      "1           Any luck with holistic solutions?   \n",
      "2                    Slept the day away again   \n",
      "3                   getting deeper and deeper   \n",
      "4  I want it to be okay for me to be unhappy.   \n",
      "\n",
      "                                                Body  \\\n",
      "0  Uk CAHMS service is shit. I’m sure I have schi...   \n",
      "1  Has anybody had any luck with holistic treatme...   \n",
      "2  Didn’t leave bed until 4:20pm so I could go to...   \n",
      "3  I want help, I can't say to the people that ca...   \n",
      "4  Obviously I don't want to be unhappy. I don't ...   \n",
      "\n",
      "                                                 URL  \n",
      "0  /r/depression/comments/fblivc/got_referred_to_...  \n",
      "1  /r/depression/comments/fbljcl/any_luck_with_ho...  \n",
      "2  /r/depression/comments/fbllbk/slept_the_day_aw...  \n",
      "3  /r/depression/comments/fblmhb/getting_deeper_a...  \n",
      "4  /r/depression/comments/fblngh/i_want_it_to_be_...  \n"
     ]
    }
   ],
   "source": [
    "years= ['2017','2018','2019','2020'];\n",
    "types = ['Noun','Verb','Adj', '3_gram'];\n",
    "header = pd.MultiIndex.from_product([years,\n",
    "                                     types],\n",
    "                                    names=['year','property'])\n",
    "df = pd.DataFrame(columns=header)\n",
    "\n",
    "for i in range (len(years)):\n",
    "    \n",
    "    dat1 = pd.read_csv(years[i]+'_March_r_Depression.csv')\n",
    "    new_df = dat1[['Title', 'Body']] \n",
    "    a = list(new_df['Title'])\n",
    "    b = list(new_df['Body'])\n",
    "    corpus = [''.join(map(str, i)) for i in zip(a, b)]\n",
    "    doc = str(corpus)\n",
    "    \n",
    "    clean_doc = re.sub(r\"[/',.;@#?!&$)(]+\\ *\", \" \", doc)\n",
    "    \n",
    "    \n",
    "    print(dat1.head())"
   ]
  },
  {
   "cell_type": "code",
   "execution_count": 18,
   "metadata": {},
   "outputs": [],
   "source": [
    "df = pd.DataFrame(dep_data, columns =['Date','Author','Title','Body','URL'])\n",
    "\n",
    "df.to_csv (r'test_depression.csv')"
   ]
  },
  {
   "cell_type": "code",
   "execution_count": 20,
   "metadata": {},
   "outputs": [],
   "source": [
    "df = df[df['Author'] != '[deleted]']"
   ]
  },
  {
   "cell_type": "code",
   "execution_count": 22,
   "metadata": {},
   "outputs": [
    {
     "data": {
      "text/plain": [
       "463"
      ]
     },
     "execution_count": 22,
     "metadata": {},
     "output_type": "execute_result"
    }
   ],
   "source": [
    "df.shape[0]"
   ]
  },
  {
   "cell_type": "code",
   "execution_count": null,
   "metadata": {},
   "outputs": [],
   "source": []
  }
 ],
 "metadata": {
  "kernelspec": {
   "display_name": "Python 3",
   "language": "python",
   "name": "python3"
  },
  "language_info": {
   "codemirror_mode": {
    "name": "ipython",
    "version": 3
   },
   "file_extension": ".py",
   "mimetype": "text/x-python",
   "name": "python",
   "nbconvert_exporter": "python",
   "pygments_lexer": "ipython3",
   "version": "3.7.4"
  }
 },
 "nbformat": 4,
 "nbformat_minor": 2
}
